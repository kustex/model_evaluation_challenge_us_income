{
 "cells": [
  {
   "cell_type": "code",
   "execution_count": 1,
   "metadata": {},
   "outputs": [],
   "source": [
    "import warnings\n",
    "warnings.filterwarnings('ignore')\n",
    "\n",
    "import pandas as pd\n",
    "import matplotlib.pyplot as plt\n",
    "import numpy as np\n",
    "\n",
    "from sklearn.preprocessing import StandardScaler\n",
    "from sklearn.ensemble import RandomForestClassifier\n",
    "from sklearn.metrics import accuracy_score\n",
    "from sklearn.metrics import classification_report\n",
    "from sklearn.model_selection import RandomizedSearchCV\n",
    "from sklearn.model_selection import cross_val_score\n"
   ]
  },
  {
   "cell_type": "code",
   "execution_count": 2,
   "metadata": {},
   "outputs": [],
   "source": [
    "train = pd.read_csv('./assets/data_train.csv')\n",
    "test = pd.read_csv('./assets/data_test.csv')"
   ]
  },
  {
   "cell_type": "code",
   "execution_count": 3,
   "metadata": {},
   "outputs": [],
   "source": [
    "X_train = train.iloc[:,0:14]\n",
    "X_test = test.iloc[:,0:14]\n",
    "y_train = train.iloc[:,14]\n",
    "y_test = test.iloc[:,14]\n",
    "\n",
    "\n",
    "X_train = pd.DataFrame(X_train)\n",
    "X_test = pd.DataFrame(X_test)\n",
    "y_train = pd.DataFrame(y_train)\n",
    "y_test = pd.DataFrame(y_test)\n",
    "\n",
    "columns = X_train.columns"
   ]
  },
  {
   "cell_type": "code",
   "execution_count": 4,
   "metadata": {
    "scrolled": false
   },
   "outputs": [
    {
     "name": "stdout",
     "output_type": "stream",
     "text": [
      "\n",
      "Accuracy is  85.43701246852159 \n",
      "\n",
      "Precision Value is\n",
      "               precision    recall  f1-score   support\n",
      "\n",
      "           0       0.88      0.93      0.91     12435\n",
      "           1       0.73      0.61      0.66      3846\n",
      "\n",
      "    accuracy                           0.85     16281\n",
      "   macro avg       0.81      0.77      0.79     16281\n",
      "weighted avg       0.85      0.85      0.85     16281\n",
      "\n"
     ]
    }
   ],
   "source": [
    "# Scaling data\n",
    "# Random Forest Classifier\n",
    "# BASELINE CLASSIFIER\n",
    "\n",
    "sc = StandardScaler()\n",
    "X_train = sc.fit_transform(X_train)\n",
    "X_test = sc.transform(X_test)\n",
    "\n",
    "clf = RandomForestClassifier()\n",
    "clf.fit(X_train, y_train)\n",
    "y_pred = clf.predict(X_test)\n",
    "print(\"\\nAccuracy is \", accuracy_score(y_test,y_pred)*100,\"\\n\\nPrecision Value is\\n\",classification_report(y_test,y_pred))"
   ]
  },
  {
   "cell_type": "code",
   "execution_count": null,
   "metadata": {
    "scrolled": false
   },
   "outputs": [],
   "source": [
    "# Setting up parametergrid for tuning\n",
    "# Doing RandomizedSearchCV to get best parameters\n",
    "\n",
    "lst = np.arange(1, 50, 5)\n",
    "lst1 = np.arange(0, 2000, 100)\n",
    "\n",
    "param_grid = { \n",
    "    'n_estimators': lst1,\n",
    "    'max_features': ['auto', 'sqrt', 'log2'],\n",
    "    'max_depth' : lst,\n",
    "    'criterion' :['gini', 'entropy']\n",
    "}\n",
    "\n",
    "CV_clf = RandomizedSearchCV(estimator=clf, param_distributions=param_grid, cv= 5)\n",
    "CV_clf.fit(X_train, y_train)"
   ]
  },
  {
   "cell_type": "code",
   "execution_count": null,
   "metadata": {},
   "outputs": [],
   "source": [
    "CV_clf.best_params_"
   ]
  },
  {
   "cell_type": "code",
   "execution_count": null,
   "metadata": {},
   "outputs": [],
   "source": [
    "# https://www.featureranking.com/tutorials/machine-learning-tutorials/sk-part-3-cross-validation-and-hyperparameter-tuning/\n",
    "\n",
    "results_clf = pd.DataFrame(CV_clf.cv_results_['params'])\n",
    "results_clf['test_score'] = CV_clf.cv_results_['mean_test_score']\n",
    "results_clf.columns"
   ]
  },
  {
   "cell_type": "code",
   "execution_count": null,
   "metadata": {
    "scrolled": false
   },
   "outputs": [],
   "source": [
    "for i in ['gini','entropy']:\n",
    "    temp = results_clf[results_clf['criterion'] == i]\n",
    "    temp_avg = temp.groupby('max_depth').agg({'test_score':'mean'})\n",
    "    plt.plot(temp_avg, marker = '.', label = i)\n",
    "plt.legend()\n",
    "plt.xlabel('max_depth')\n",
    "plt.ylabel('Mean CV Score')\n",
    "plt.title('clf Performance Comparison')"
   ]
  },
  {
   "cell_type": "code",
   "execution_count": null,
   "metadata": {},
   "outputs": [],
   "source": [
    "for i in ['gini','entropy']:\n",
    "    temp = results_clf[results_clf['criterion'] == i]\n",
    "    temp_avg = temp.groupby('n_estimators').agg({'test_score':'mean'})\n",
    "    plt.plot(temp_avg, marker = '.', label = i)\n",
    "plt.legend()\n",
    "plt.xlabel('n_estimators')\n",
    "plt.ylabel('Mean CV Score')\n",
    "plt.title('clf Performance Comparison')"
   ]
  },
  {
   "cell_type": "code",
   "execution_count": null,
   "metadata": {},
   "outputs": [],
   "source": [
    "clf1 = RandomForestClassifier(max_depth=16, max_features='sqrt', n_estimators = 500, criterion ='gini')\n",
    "clf1.fit(X_train, y_train)\n",
    "y_pred = clf1.predict(X_test)\n",
    "print(\"\\nAccuracy is \", accuracy_score(y_test,y_pred)*100,\"\\n\\nPrecision Value is\\n\",classification_report(y_test,y_pred))"
   ]
  },
  {
   "cell_type": "code",
   "execution_count": null,
   "metadata": {},
   "outputs": [],
   "source": [
    "importances = pd.DataFrame({'feature':columns ,'importance':np.round(clf1.feature_importances_,3)})\n",
    "importances = importances.sort_values('importance',ascending=False).set_index('feature')\n",
    "importances.plot.bar()"
   ]
  },
  {
   "cell_type": "code",
   "execution_count": null,
   "metadata": {},
   "outputs": [],
   "source": []
  },
  {
   "cell_type": "code",
   "execution_count": null,
   "metadata": {},
   "outputs": [],
   "source": []
  },
  {
   "cell_type": "markdown",
   "metadata": {},
   "source": [
    "# Final model"
   ]
  },
  {
   "cell_type": "code",
   "execution_count": null,
   "metadata": {},
   "outputs": [],
   "source": [
    "import numpy as np\n",
    "from hyperopt import hp, tpe, fmin,STATUS_OK,Trials\n",
    "\n",
    "def accuracy_model(params):\n",
    "    clf = RandomForestClassifier(**params)\n",
    "    return cross_val_score(clf, X_train, y_train).mean()\n",
    "\n",
    "param_space = {'max_depth': hp.choice('max_depth', range(10,100)),\n",
    "    'max_features': hp.uniform('max_features', 0.1,1),\n",
    "    'n_estimators': hp.choice('n_estimators', range(50,500)),\n",
    "    'min_samples_leaf': hp.choice('min_samples_leaf',range(3,5)),\n",
    "    'min_samples_split': hp.choice('min_samples_split',range(2,10)),\n",
    "    'criterion': hp.choice('criterion', [\"gini\", \"entropy\"])}\n",
    "\n",
    "best = 0\n",
    "def f(params):\n",
    "    global best\n",
    "    acc = accuracy_model(params)\n",
    "    if acc > best:\n",
    "        best = acc\n",
    "    return {'loss': -acc, 'status': STATUS_OK}\n",
    "\n",
    "Trials = Trials()\n",
    "best_params = fmin(f, param_space , algo=tpe.suggest,max_evals=500, trials= Trials)\n",
    "\n",
    "print('New best:', best, best_params)\n",
    "print(best_params)"
   ]
  },
  {
   "cell_type": "code",
   "execution_count": null,
   "metadata": {},
   "outputs": [],
   "source": []
  }
 ],
 "metadata": {
  "kernelspec": {
   "display_name": "Python 3",
   "language": "python",
   "name": "python3"
  },
  "language_info": {
   "codemirror_mode": {
    "name": "ipython",
    "version": 3
   },
   "file_extension": ".py",
   "mimetype": "text/x-python",
   "name": "python",
   "nbconvert_exporter": "python",
   "pygments_lexer": "ipython3",
   "version": "3.8.5"
  }
 },
 "nbformat": 4,
 "nbformat_minor": 4
}
